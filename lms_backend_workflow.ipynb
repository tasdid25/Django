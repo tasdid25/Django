{
  "nbformat": 4,
  "nbformat_minor": 0,
  "metadata": {
    "colab": {
      "provenance": [],
      "toc_visible": true,
      "authorship_tag": "ABX9TyMOpg/+0zk8s1X990+j3KOu",
      "include_colab_link": true
    },
    "kernelspec": {
      "name": "python3",
      "display_name": "Python 3"
    },
    "language_info": {
      "name": "python"
    }
  },
  "cells": [
    {
      "cell_type": "markdown",
      "metadata": {
        "id": "view-in-github",
        "colab_type": "text"
      },
      "source": [
        "<a href=\"https://colab.research.google.com/github/tasdid25/Django/blob/main/lms_backend_workflow.ipynb\" target=\"_parent\"><img src=\"https://colab.research.google.com/assets/colab-badge.svg\" alt=\"Open In Colab\"/></a>"
      ]
    },
    {
      "cell_type": "markdown",
      "source": [
        "# lms_backend -> settings-> Installed Apps ->"
      ],
      "metadata": {
        "id": "UUj3VQ2ZdUc-"
      }
    },
    {
      "cell_type": "code",
      "source": [
        "INSTALLED_APPS = ['drf_yasg',\n",
        "                  'rest_framework',\n",
        "                  'rest_framework.authtoken',\n",
        "                  'rest_framework_simplejwt',\n",
        "                  'users',\n",
        "                  'core',\n",
        "                  ]"
      ],
      "metadata": {
        "id": "nI2nx781do-_"
      },
      "execution_count": null,
      "outputs": []
    },
    {
      "cell_type": "markdown",
      "source": [
        "### #MODEL"
      ],
      "metadata": {
        "id": "7P2bUP4Azawb"
      }
    },
    {
      "cell_type": "markdown",
      "source": [
        "#settings->"
      ],
      "metadata": {
        "id": "tI4iCMpB0J8j"
      }
    },
    {
      "cell_type": "code",
      "source": [
        "AUTH_USER_MODEL = 'users.User'"
      ],
      "metadata": {
        "id": "37RmJlMw0GPT"
      },
      "execution_count": null,
      "outputs": []
    },
    {
      "cell_type": "markdown",
      "source": [
        "#core-> models.py ->"
      ],
      "metadata": {
        "id": "VC7PqzVxdXym"
      }
    },
    {
      "cell_type": "code",
      "source": [
        "from django.db import models  # Import Django's model tools\n",
        "from users.models import User  # Import custom User model\n",
        "\n",
        "class Category(models.Model):\n",
        "    title = models.CharField(max_length=255)  # Category name/title (max length 255 chars)\n",
        "\n",
        "    def __str__(self):\n",
        "        return self.title  # Return title when printing category object (for admin, shell, etc.)\n",
        "\n",
        "class Enrollment(models.Model):\n",
        "    # Link to User model; only users with role='student' can be chosen here\n",
        "    student_id = models.ForeignKey(User, on_delete=models.CASCADE,  # Delete enrollments if user deleted\n",
        "        limit_choices_to={'role': 'student'}  # Limit selectable users to students\n",
        "    )\n",
        "    # Link to Course model (assumed defined elsewhere)\n",
        "    course_id = models.ForeignKey(\n",
        "        Course, on_delete=models.CASCADE  # Delete enrollments if course deleted\n",
        "    )\n",
        "\n",
        "    def __str__(self):\n",
        "        # Display \"username - course title\" when printed\n",
        "        return f\"{self.student_id.username} - {self.course_id.title}\"\n",
        "\n",
        "# etc...\n"
      ],
      "metadata": {
        "id": "fVqe6_5XdehY"
      },
      "execution_count": null,
      "outputs": []
    },
    {
      "cell_type": "markdown",
      "source": [
        "### #SERIALIZER"
      ],
      "metadata": {
        "id": "gi49lKQ9ztEj"
      }
    },
    {
      "cell_type": "markdown",
      "source": [
        "#core-> serializers.py ->"
      ],
      "metadata": {
        "id": "p5KShhkPdlr_"
      }
    },
    {
      "cell_type": "code",
      "source": [
        "from rest_framework import serializers  # Import serializers from DRF\n",
        "from .models import Course, Category, Lesson  # Import your models\n",
        "\n",
        "# Serializer for Category model\n",
        "class CategorySerializer(serializers.ModelSerializer):\n",
        "    class Meta:\n",
        "        model = Category  # Specify the model to serialize\n",
        "        fields = '__all__'  # Include all fields from the model in the serialization\n",
        "  #etc.."
      ],
      "metadata": {
        "id": "q0hWwIWAeyno"
      },
      "execution_count": null,
      "outputs": []
    },
    {
      "cell_type": "markdown",
      "source": [
        "#core-> admin.py ->"
      ],
      "metadata": {
        "id": "D2IGWafxe28w"
      }
    },
    {
      "cell_type": "code",
      "source": [
        "from django.contrib import admin\n",
        "from .models import Course, Category, Lesson, Material, Enrollment, QuestionAnswer\n",
        "# Register your models here.\n",
        "\n",
        "admin.site.register(Category)\n",
        "#etc.."
      ],
      "metadata": {
        "id": "Ipq77kqefFwA"
      },
      "execution_count": null,
      "outputs": []
    },
    {
      "cell_type": "markdown",
      "source": [
        "# users-> serializers.py ->"
      ],
      "metadata": {
        "id": "7ss53tWTfHSI"
      }
    },
    {
      "cell_type": "code",
      "source": [
        "from rest_framework import serializers  # Import DRF's serializer tools\n",
        "from .models import User  # Import your custom User model\n",
        "from django.contrib.auth.hashers import make_password  # For securely hashing passwords\n",
        "\n",
        "class UserSerializer(serializers.ModelSerializer):\n",
        "    password = serializers.CharField(write_only=True, required=True)  # Don't show password in response\n",
        "\n",
        "    class Meta:\n",
        "        model = User  # Use the User model\n",
        "        fields = ['id', 'username', 'email', 'role', 'mobile_no', 'password']  # Fields to include\n",
        "\n",
        "    def create(self, validated_data):\n",
        "        validated_data['password'] = make_password(validated_data['password'])  # Hash the password before saving\n",
        "        return super().create(validated_data)  # Call parent create method to save user\n"
      ],
      "metadata": {
        "id": "6ZP7vLC3gnlg"
      },
      "execution_count": null,
      "outputs": []
    },
    {
      "cell_type": "markdown",
      "source": [
        "#users-> admin.py ->"
      ],
      "metadata": {
        "id": "MKQz7WTojsHz"
      }
    },
    {
      "cell_type": "code",
      "source": [
        "from django.contrib import admin  # Import Django's admin interface\n",
        "\n",
        "from . import models  # Import all models from the current app\n",
        "\n",
        "admin.site.register(models.User)  # Register the User model so it shows up in the admin panel\n"
      ],
      "metadata": {
        "id": "6VctAQIXkoOj"
      },
      "execution_count": null,
      "outputs": []
    },
    {
      "cell_type": "markdown",
      "source": [
        "### #LOGIN"
      ],
      "metadata": {
        "id": "OhbqyzZK0pbD"
      }
    },
    {
      "cell_type": "markdown",
      "source": [
        "# terminal ->"
      ],
      "metadata": {
        "id": "0v5Jjy7bpoN0"
      }
    },
    {
      "cell_type": "code",
      "source": [
        "py manage.py makemigration"
      ],
      "metadata": {
        "id": "vmlVOBwflcYK"
      },
      "execution_count": null,
      "outputs": []
    },
    {
      "cell_type": "code",
      "source": [
        "py manage.py migrate"
      ],
      "metadata": {
        "id": "cJxs8wVwnSpL"
      },
      "execution_count": null,
      "outputs": []
    },
    {
      "cell_type": "code",
      "source": [
        "py manage.py createsuperuser\n",
        "nz 123"
      ],
      "metadata": {
        "id": "s8_TUW5mnPZD"
      },
      "execution_count": null,
      "outputs": []
    },
    {
      "cell_type": "code",
      "source": [
        "py manage.py runserver"
      ],
      "metadata": {
        "id": "6tLdpOsNpRM0"
      },
      "execution_count": null,
      "outputs": []
    },
    {
      "cell_type": "markdown",
      "source": [
        " admin panel -> users ->  Role -> admin"
      ],
      "metadata": {
        "id": "b1uy2-wIrHu2"
      }
    },
    {
      "cell_type": "markdown",
      "source": [
        "### #VIEW\n",
        "\n",
        "\n"
      ],
      "metadata": {
        "id": "cyTayUokzFeM"
      }
    },
    {
      "cell_type": "markdown",
      "source": [
        "# @api view"
      ],
      "metadata": {
        "id": "ZwZv8q5FJpl4"
      }
    },
    {
      "cell_type": "markdown",
      "source": [
        "![image.png](data:image/png;base64,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)"
      ],
      "metadata": {
        "id": "pP8Y0OXj0LkB"
      }
    },
    {
      "cell_type": "markdown",
      "source": [
        "#core -> views.py -> category, course.."
      ],
      "metadata": {
        "id": "4m1i_Vons-oO"
      }
    },
    {
      "cell_type": "code",
      "source": [
        "from rest_framework.response import Response  # Return API responses\n",
        "from rest_framework.decorators import api_view  # Mark function as API view\n",
        "from rest_framework.permissions import IsAuthenticated  # For enforcing authentication (not used here)\n",
        "from rest_framework import status  # HTTP status codes\n",
        "\n",
        "from .models import Category, Course, Lesson, Material, Enrollment, QuestionAnswer  # Import models\n",
        "from .serializers import (  # Import serializers to convert models to/from JSON\n",
        "    CategorySerializer, CourseSerializer, LessonSerializer, MaterialSerializer,\n",
        "    EnrollmentSerializer, QuestionAnswerSerializer\n",
        ")\n",
        "\n",
        "from drf_yasg.utils import swagger_auto_schema  # Decorator to add Swagger documentation for each API method\n",
        "\n",
        "@swagger_auto_schema(method='put', request_body=CourseSerializer)\n",
        "\n",
        "@api_view(['GET', 'POST'])  # Allow GET and POST methods only\n",
        "\n",
        "@permission_classes([IsAuthenticated])  # Only authenticated users can access this view\n",
        "\n",
        "def category_list_create(request):\n",
        "    if request.method == 'GET':  # List all categories\n",
        "        categories = Category.objects.all()  # Fetch all categories\n",
        "        serializer = CategorySerializer(categories, many=True)  # Serialize list\n",
        "        return Response(serializer.data)  # Return JSON response\n",
        "\n",
        "    elif request.method == 'POST':  # Create new category\n",
        "        if request.user.role != 'admin':  # Only admin allowed to create\n",
        "            return Response({\"detail\": \"Only admin can create categories.\"}, status=403)\n",
        "\n",
        "        serializer = CategorySerializer(data=request.data)  # Deserialize input data\n",
        "        if serializer.is_valid():  # Validate data\n",
        "            serializer.save()  # Save new category\n",
        "            return Response(serializer.data, status=status.HTTP_201_CREATED)  # Return created category\n",
        "        return Response(serializer.errors, status=status.HTTP_400_BAD_REQUEST)  # Return validation errors\n",
        "\n",
        "\n",
        "              # ---- copy-paste --- < but has different logic for user cases > -----------#\n",
        "\n",
        "\n",
        "@api_view(['GET', 'POST'])  # Allow only GET and POST HTTP methods for this view\n",
        "\n",
        "def course_list_create(request):\n",
        "    if request.method == 'GET':  # Handle GET request to list courses\n",
        "     #................................................................................\n",
        "        if request.user.role == 'admin':\n",
        "            courses = Course.objects.all() # Admin users see all courses\n",
        "\n",
        "\n",
        "        elif request.user.role == 'teacher':\n",
        "            courses = Course.objects.filter(teacher=request.user) # Teachers see only courses they teach\n",
        "\n",
        "\n",
        "        elif request.user.role == 'student': # Students see all courses (could be filtered for enrolled courses)\n",
        "            courses = Course.objects.all()  # You might want to filter enrolled courses here\n",
        "\n",
        "        else:\n",
        "            # If user role is unknown or unauthorized, return 403 Forbidden\n",
        "            return Response({'detail': 'Unauthorized role'}, status=403)\n",
        "     #................................................................................\n",
        "\n",
        "        serializer = CourseSerializer(courses, many=True)\n",
        "        return Response(serializer.data)\n",
        "\n",
        "    elif request.method == 'POST':\n",
        "#............................................................................................................\n",
        "        if request.user.role != 'teacher':\n",
        "          return Response({'detail': 'Only teachers can create courses.'}, status=403)\n",
        "\n",
        "        serializer = CourseSerializer(data=request.data)\n",
        "        if serializer.is_valid():\n",
        "            serializer.save(teacher=request.user)  # assuming you have a teacher FK in model\n",
        "#.............................................................................................................\n",
        "        return Response(serializer.data, status=status.HTTP_201_CREATED)  # Return created category\n",
        "    return Response(serializer.errors, status=status.HTTP_400_BAD_REQUEST)  # Return validation errors"
      ],
      "metadata": {
        "id": "-znJKqqitA9l"
      },
      "execution_count": null,
      "outputs": []
    },
    {
      "cell_type": "code",
      "source": [
        "@swagger_auto_schema(method='put', request_body=CourseSerializer)\n",
        "@api_view(['GET', 'PUT', 'DELETE'])\n",
        "@permission_classes([IsAuthenticated])\n",
        "def course_detail(request, pk):\n",
        "    try:\n",
        "        course = Course.objects.get(pk=pk) #ekta single course ke visit korbo check korte ase naki\n",
        "    except Course.DoesNotExist:\n",
        "        return Response({'detail': 'Course not found'}, status=404)\n",
        "\n",
        "    if request.method == 'GET':\n",
        "        if request.user.role == 'admin' or request.user == course.instructor_id: # je instructor course create korse only shey e jeno dkhte pare\n",
        "            serializer = CourseSerializer(course)\n",
        "            return Response(serializer.data)\n",
        "        return Response({'detail': 'Permission denied'}, status=403)\n",
        "\n",
        "    elif request.method == 'PUT':\n",
        "        if request.user.role != 'teacher' or request.user != course.instructor_id:\n",
        "            return Response({'detail': 'Only the course owner (teacher) can update this course.'}, status=403)\n",
        "\n",
        "        serializer = CourseSerializer(course, data=request.data)\n",
        "        if serializer.is_valid():\n",
        "            serializer.save(teacher=request.user)\n",
        "            return Response(serializer.data)\n",
        "        return Response(serializer.errors, status=status.HTTP_400_BAD_REQUEST)\n",
        "\n",
        "    elif request.method == 'DELETE':\n",
        "        if request.user.role != 'teacher' or request.user != course.instructor_id:\n",
        "            return Response({'detail': 'Only the course owner (teacher) can delete this course.'}, status=403)\n",
        "        course.delete()\n",
        "        return Response({'detail': 'Course deleted'}, status=status.HTTP_204_NO_CONTENT)"
      ],
      "metadata": {
        "id": "d-9tgd3mKrJQ"
      },
      "execution_count": null,
      "outputs": []
    },
    {
      "cell_type": "markdown",
      "source": [
        "### #URL"
      ],
      "metadata": {
        "id": "SEDUUE_0y7xC"
      }
    },
    {
      "cell_type": "markdown",
      "source": [
        "#core -> urls.py\n"
      ],
      "metadata": {
        "id": "Mu_Bvq3AqLlI"
      }
    },
    {
      "cell_type": "code",
      "source": [
        "from django.urls import path\n",
        "from .views import category_list_create, course_list_create, course_detail, lesson_list_create, material_list_create, enrollment_list_create, questionanswer_list_create\n",
        "\n",
        "urlpatterns = [\n",
        "    path('categories/', category_list_create, name='category_list_create'),\n",
        "    path('courses/<int:pk>/', course_detail, name='course_detail'),]"
      ],
      "metadata": {
        "id": "XB7mKEwvqTYo"
      },
      "execution_count": null,
      "outputs": []
    },
    {
      "cell_type": "markdown",
      "source": [
        "#settings->"
      ],
      "metadata": {
        "id": "I-Y7uPQ9yLqk"
      }
    },
    {
      "cell_type": "code",
      "source": [
        "ROOT_URLCONF = 'lms_backend.urls'\n"
      ],
      "metadata": {
        "id": "ZFLu63yDyORM"
      },
      "execution_count": null,
      "outputs": []
    },
    {
      "cell_type": "markdown",
      "source": [
        "#lms backend -> urls.py\n"
      ],
      "metadata": {
        "id": "jbMODvf4pkUa"
      }
    },
    {
      "cell_type": "code",
      "source": [
        "from django.contrib import admin\n",
        "from django.urls import path, include\n",
        "\n",
        "urlpatterns = [\n",
        "    path('admin/', admin.site.urls),\n",
        "    path('api/', include('core.urls')),]"
      ],
      "metadata": {
        "id": "DDVSwIcvpmHg"
      },
      "execution_count": null,
      "outputs": []
    },
    {
      "cell_type": "markdown",
      "source": [
        "#check API status:\n",
        "\n",
        "*   browser-> \"detail\": \"Authentication credentials were not provided.\"\n",
        "*   also copy the url in postman\n"
      ],
      "metadata": {
        "id": "um0wm1Mgvl71"
      }
    },
    {
      "cell_type": "code",
      "source": [
        "py manage.py runserver\n",
        "http://127.0.0.1:8000/api/courses/"
      ],
      "metadata": {
        "id": "ZmpqnU-Bvs71"
      },
      "execution_count": null,
      "outputs": []
    },
    {
      "cell_type": "markdown",
      "source": [],
      "metadata": {
        "id": "7K-SCH_nwpoV"
      }
    },
    {
      "cell_type": "markdown",
      "source": [
        "### #JWT TOKEN SETUP"
      ],
      "metadata": {
        "id": "tJinlzHmlabr"
      }
    },
    {
      "cell_type": "markdown",
      "source": [
        "# users -> views.py"
      ],
      "metadata": {
        "id": "Uy4xG3kq1RCq"
      }
    },
    {
      "cell_type": "code",
      "source": [
        "from django.shortcuts import render\n",
        "from django.shortcuts import render\n",
        "from rest_framework.response import Response\n",
        "from rest_framework import status\n",
        "from rest_framework.decorators import api_view, permission_classes\n",
        "from rest_framework.permissions import IsAuthenticated\n",
        "from .models import User\n",
        "from .serializers import UserSerializer\n",
        "\n",
        "\n",
        "@api_view(['GET', 'POST'])\n",
        "def user_list_create(request):\n",
        "    if request.method == 'GET':\n",
        "        if not request.user.is_authenticated :\n",
        "            return Response({'detail' : 'Authentication credentials were not provided'}, status=401)\n",
        "\n",
        "        if request.user.role == 'admin':\n",
        "            users = User.objects.all()\n",
        "        else:\n",
        "            users = User.objects.filter(id=request.user.id) #je user request kortese shey just nijertai dkhte parbe\n",
        "\n",
        "        serializer = UserSerializer(users, many=True)\n",
        "        return Response(serializer.data)\n",
        "\n",
        "    elif request.method == 'POST':\n",
        "        serializer = UserSerializer(data=request.data)\n",
        "        if serializer.is_valid():\n",
        "            serializer.save()\n",
        "            return Response(serializer.data, status=status.HTTP_201_CREATED)\n",
        "        return Response(serializer.errors, status=status.HTTP_400_BAD_REQUEST)\n",
        "\n"
      ],
      "metadata": {
        "id": "RObiKPZc1ib5"
      },
      "execution_count": null,
      "outputs": []
    },
    {
      "cell_type": "markdown",
      "source": [
        "# users -> urls.py"
      ],
      "metadata": {
        "id": "ARoGs7SO1Aza"
      }
    },
    {
      "cell_type": "code",
      "source": [
        "from django.urls import path\n",
        "from .views import user_list_create\n",
        "\n",
        "urlpatterns = [\n",
        "    path('auth/', user_list_create, name=\"user_list_create\"),\n",
        "]\n"
      ],
      "metadata": {
        "id": "NET3GQOoAS2z"
      },
      "execution_count": null,
      "outputs": []
    },
    {
      "cell_type": "markdown",
      "source": [
        "#lms_backend -> urls.py\n"
      ],
      "metadata": {
        "id": "moqWHVxbCYRS"
      }
    },
    {
      "cell_type": "code",
      "source": [
        "urlpatterns = [\n",
        "    path('admin/', admin.site.urls),\n",
        "    path('api/', include('core.urls')),\n",
        "    path('api/user/', include('users.urls')),]"
      ],
      "metadata": {
        "id": "4w-Q1izDBwDD"
      },
      "execution_count": null,
      "outputs": []
    },
    {
      "cell_type": "markdown",
      "source": [
        "#JWT_requirement\n",
        "\n"
      ],
      "metadata": {
        "id": "Wlqz3P6aGeAA"
      }
    },
    {
      "cell_type": "code",
      "source": [
        "pip install djangorestframework-simplejwt"
      ],
      "metadata": {
        "id": "Xq9tWJX4GavY"
      },
      "execution_count": null,
      "outputs": []
    },
    {
      "cell_type": "markdown",
      "source": [
        "# lms_backend -> settings"
      ],
      "metadata": {
        "id": "_hG2R2d5GzAf"
      }
    },
    {
      "cell_type": "code",
      "source": [
        "REST_FRAMEWORK = {\n",
        "    'DEFAULT_AUTHENTICATION_CLASSES': (\n",
        "        'rest_framework_simplejwt.authentication.JWTAuthentication',\n",
        "    )\n",
        "}"
      ],
      "metadata": {
        "id": "IU7T2uvIGqQI"
      },
      "execution_count": null,
      "outputs": []
    },
    {
      "cell_type": "markdown",
      "source": [
        "# lms_backend -> urls.py"
      ],
      "metadata": {
        "id": "i-AiSblHHj2o"
      }
    },
    {
      "cell_type": "code",
      "source": [
        "from django.contrib import admin\n",
        "from django.urls import path, include\n",
        "from rest_framework_simplejwt.views import (\n",
        "    TokenObtainPairView,\n",
        "    TokenRefreshView,\n",
        "    TokenVerifyView,\n",
        ")\n",
        "\n",
        "\n",
        "urlpatterns = [\n",
        "    path('admin/', admin.site.urls),\n",
        "    path('api/', include('core.urls')),\n",
        "    path('api/user/', include('users.urls')),\n",
        "    path('api/token/', TokenObtainPairView.as_view(), name='token_obtain_pair'),\n",
        "    path('api/token/refresh/', TokenRefreshView.as_view(), name='token_refresh'),\n",
        "    path('api/token/verify/', TokenVerifyView.as_view(), name='token_verify'), ]"
      ],
      "metadata": {
        "id": "lutLAE01HlL5"
      },
      "execution_count": null,
      "outputs": []
    },
    {
      "cell_type": "markdown",
      "source": [
        "# lms_backend -> settings\n",
        "\n",
        "\n",
        "*   ACCESS_TOKEN_LIFETIME\n",
        "\n",
        "\n"
      ],
      "metadata": {
        "id": "_rzz3wVTlKP3"
      }
    },
    {
      "cell_type": "code",
      "source": [
        "from datetime import timedelta\n",
        "\n",
        "SIMPLE_JWT = {\n",
        "    \"ACCESS_TOKEN_LIFETIME\": timedelta(minutes=15),\n",
        "    \"REFRESH_TOKEN_LIFETIME\": timedelta(days=7),\n",
        "    \"ROTATE_REFRESH_TOKENS\": True,\n",
        "    \"BLACKLIST_AFTER_ROTATION\": True,\n",
        "}"
      ],
      "metadata": {
        "id": "U083z-rnlSLW"
      },
      "execution_count": null,
      "outputs": []
    },
    {
      "cell_type": "markdown",
      "source": [
        "#core -> views.py-> after every @api_view"
      ],
      "metadata": {
        "id": "mP5RMHELE55A"
      }
    },
    {
      "cell_type": "code",
      "source": [
        "@permission_classes([IsAuthenticated])"
      ],
      "metadata": {
        "id": "oQFkpPFimrzW"
      },
      "execution_count": null,
      "outputs": []
    },
    {
      "cell_type": "markdown",
      "source": [
        "# terminal ->"
      ],
      "metadata": {
        "id": "p8-VUs5zpJUE"
      }
    },
    {
      "cell_type": "code",
      "source": [
        "py manage.py makemigration\n",
        "py manage.py migrate\n",
        "py manage.py runserver"
      ],
      "metadata": {
        "id": "TBH8ZCgkpKSK"
      },
      "execution_count": null,
      "outputs": []
    },
    {
      "cell_type": "markdown",
      "source": [
        "#check API status:\n",
        "\n",
        "*   browser-> \"detail\": \"Authentication credentials were not provided.\"\n",
        "*   also copy the url in postman\n"
      ],
      "metadata": {
        "id": "kdoYHe5dnZhr"
      }
    },
    {
      "cell_type": "code",
      "source": [
        "py manage.py runserver\n",
        "http://127.0.0.1:8000/api/courses/"
      ],
      "metadata": {
        "id": "-t_yqBEdn2xR"
      },
      "execution_count": null,
      "outputs": []
    },
    {
      "cell_type": "code",
      "source": [
        "http://127.0.0.1:8000/api/user/auth/\n",
        "\n",
        "#media type -> applicayion/json\n",
        "\n",
        "#vscode-> users-> serializers.py -> fields copy -> paste in contant-> {'id':'2', 'username':'rahim', etc}"
      ],
      "metadata": {
        "id": "Yf1qfjjGE65w"
      },
      "execution_count": null,
      "outputs": []
    }
  ]
}