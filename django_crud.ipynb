{
  "cells": [
    {
      "cell_type": "markdown",
      "metadata": {
        "id": "view-in-github",
        "colab_type": "text"
      },
      "source": [
        "<a href=\"https://colab.research.google.com/github/tasdid25/Django/blob/main/django_crud.ipynb\" target=\"_parent\"><img src=\"https://colab.research.google.com/assets/colab-badge.svg\" alt=\"Open In Colab\"/></a>"
      ]
    },
    {
      "cell_type": "markdown",
      "metadata": {
        "id": "-KNfxKLCMKoo"
      },
      "source": [
        "# **Django-তে CRUD অপারেশন**\n"
      ]
    },
    {
      "cell_type": "markdown",
      "metadata": {
        "id": "Ay1utos3MKoq"
      },
      "source": [
        "## **Step 1: Model তৈরি করা**\n",
        "প্রথমে **models.py** ফাইলে একটি **Book** মডেল তৈরি করতে হবে।"
      ]
    },
    {
      "cell_type": "code",
      "execution_count": null,
      "metadata": {
        "id": "m0xNGzziMKoq"
      },
      "outputs": [],
      "source": [
        "from django.db import models\n",
        "\n",
        "class Book(models.Model):\n",
        "    title = models.CharField(max_length=255)\n",
        "    author = models.CharField(max_length=255)\n",
        "    published_date = models.DateField()\n",
        "\n",
        "    def __str__(self):\n",
        "        return self.title"
      ]
    },
    {
      "cell_type": "markdown",
      "metadata": {
        "id": "Sz-v9Ul4MKor"
      },
      "source": [
        "## **Step 2: Database মাইগ্রেশন করা**\n",
        "মডেল তৈরি করার পরে **মাইগ্রেশন** চালিয়ে তা ডাটাবেজে যোগ করতে হবে।"
      ]
    },
    {
      "cell_type": "code",
      "execution_count": null,
      "metadata": {
        "id": "6haAZ_QWMKor"
      },
      "outputs": [],
      "source": [
        "!python manage.py makemigrations\n",
        "!python manage.py migrate"
      ]
    },
    {
      "cell_type": "markdown",
      "metadata": {
        "id": "JV1SpLsQMKor"
      },
      "source": [
        "## **Step 3: Views সেটআপ করা**\n",
        "Django-তে CRUD অপারেশনের জন্য **views.py** ফাইলে নিচের মতো কোড লিখতে হবে।\n",
        "     \n",
        "\n",
        "*   1. fetch all data of book form database\n",
        "*   2. send all fetched data to a template\n",
        "\n",
        "\n",
        "\n",
        "\n",
        "\n",
        "### **(C) Create - নতুন বই যোগ করা**"
      ]
    },
    {
      "cell_type": "code",
      "execution_count": null,
      "metadata": {
        "id": "NV0H9YzqMKor"
      },
      "outputs": [],
      "source": [
        "from django.shortcuts import render, redirect\n",
        "from .models import Book\n",
        "from .forms import BookForm\n",
        "\n",
        "# নতুন বই create করার ফাংশন\n",
        "# Handles both GET (ফর্ম দেখানো) এবং POST (ফর্ম সাবমিট করা) রিকোয়েস্ট\n",
        "def create_book(request):\n",
        "    if request.method == \"POST\":  # 1. get the all data from frontend\n",
        "        form = BookForm(request.POST)\n",
        "        if form.is_valid():  # ফর্ম ডাটা যাচাই করা\n",
        "            form.save()  # নতুন বই ডাটাবেসে save করা\n",
        "            return redirect('book_list')  # সফলভাবে save হলে বই তালিকায় নিয়ে যাওয়া\n",
        "    else:\n",
        "        form = BookForm()  # GET রিকোয়েস্টের জন্য ফাঁকা ফর্ম দেখানো\n",
        "    return render(request, 'books/create_book.html', {'form': form})  # ফর্ম সহ HTML টেমপ্লেট রেন্ডার করা\n"
      ]
    },
    {
      "cell_type": "markdown",
      "metadata": {
        "id": "97qNX0P2MKor"
      },
      "source": [
        "### **(R) Read - সব বই লিস্ট আকারে দেখানো**\n",
        "\n",
        "*   fetch all data of book form database\n",
        "\n",
        "*   send all fetched data to a template\n",
        "\n"
      ]
    },
    {
      "cell_type": "code",
      "execution_count": null,
      "metadata": {
        "id": "1ZoPymTnMKor"
      },
      "outputs": [],
      "source": [
        "def book_list(request):\n",
        "    books = Book.objects.all()  # ডাটাবেস থেকে সমস্ত বই নিয়ে আসা\n",
        "    return render(request, 'books/book_list.html', {'books': books})  # বই তালিকা টেমপ্লেটে পাঠানো"
      ]
    },
    {
      "cell_type": "markdown",
      "metadata": {
        "id": "B8G7OjAFMKos"
      },
      "source": [
        "### **(U) Update - বিদ্যমান বই আপডেট করা**"
      ]
    },
    {
      "cell_type": "code",
      "execution_count": null,
      "metadata": {
        "id": "Ekq13tosMKos"
      },
      "outputs": [],
      "source": [
        "def update_book(request, pk):\n",
        "    book = Book.objects.get(id=pk)  # নির্দিষ্ট বই খুঁজে বের করা\n",
        "    if request.method == \"POST\":  # যদি ফর্ম সাবমিট করা হয়\n",
        "        form = BookForm(request.POST, instance=book)  # বিদ্যমান বইয়ের তথ্যসহ ফর্ম তৈরি করা\n",
        "        if form.is_valid():  # ফর্ম ডাটা যাচাই করা\n",
        "            form.save()  # পরিবর্তিত তথ্য ডাটাবেসে save করা\n",
        "            return redirect('book_list')  # আপডেট সফল হলে বই তালিকায় নিয়ে যাওয়া\n",
        "    else:\n",
        "        form = BookForm(instance=book)  # GET রিকোয়েস্টের জন্য ফর্মে বিদ্যমান তথ্য দেখানো\n",
        "    return render(request, 'books/update_book.html', {'form': form})  # ফর্ম সহ HTML টেমপ্লেট রেন্ডার করা"
      ]
    },
    {
      "cell_type": "markdown",
      "metadata": {
        "id": "TJlXMt2BMKos"
      },
      "source": [
        "### **(D) Delete - বই ডিলিট করা**"
      ]
    },
    {
      "cell_type": "code",
      "execution_count": null,
      "metadata": {
        "id": "z-pvtaHIMKos"
      },
      "outputs": [],
      "source": [
        "def delete_book(request, pk):\n",
        "    book = Book.objects.get(id=pk)  # নির্দিষ্ট বই খুঁজে বের করা\n",
        "    if request.method == \"POST\":  # যদি delete কনফার্ম করা হয়\n",
        "        book.delete()  # বই ডাটাবেস থেকে মুছে ফেলা\n",
        "        return redirect('book_list')  # সফলভাবে delete হলে বই তালিকায় নিয়ে যাওয়া\n",
        "    return render(request, 'books/delete_book.html', {'book': book})  # কনফার্মেশন টেমপ্লেট রেন্ডার করা"
      ]
    },
    {
      "cell_type": "markdown",
      "metadata": {
        "id": "w9JQd4OZMKos"
      },
      "source": [
        "## **Step 4: URL সেটআপ করা**"
      ]
    },
    {
      "cell_type": "code",
      "execution_count": null,
      "metadata": {
        "id": "5MsNy1eUMKos"
      },
      "outputs": [],
      "source": [
        "from django.urls import path\n",
        "from . import views\n",
        "\n",
        "urlpatterns = [\n",
        "    path('', views.book_list, name='book_list'),\n",
        "    path('create/', views.create_book, name='create_book'),\n",
        "    path('update/<int:pk>/', views.update_book, name='update_book'),\n",
        "    path('delete/<int:pk>/', views.delete_book, name='delete_book'),\n",
        "]"
      ]
    },
    {
      "cell_type": "markdown",
      "metadata": {
        "id": "dFCYgpURMKos"
      },
      "source": [
        "## **Step 5: ফর্ম তৈরি করা**"
      ]
    },
    {
      "cell_type": "code",
      "execution_count": null,
      "metadata": {
        "id": "3hK-0r4cMKos"
      },
      "outputs": [],
      "source": [
        "from django import forms\n",
        "from .models import Book\n",
        "\n",
        "class BookForm(forms.ModelForm):\n",
        "    class Meta:\n",
        "        model = Book\n",
        "        fields = ['title', 'author', 'published_date']"
      ]
    },
    {
      "cell_type": "markdown",
      "metadata": {
        "id": "vL6-EwY9MKos"
      },
      "source": [
        "## **Step 6: Superuser তৈরি করা (Admin Panel)**"
      ]
    },
    {
      "cell_type": "code",
      "execution_count": null,
      "metadata": {
        "id": "ypvHc191MKos"
      },
      "outputs": [],
      "source": [
        "!python manage.py createsuperuser"
      ]
    },
    {
      "cell_type": "code",
      "execution_count": null,
      "metadata": {
        "id": "NZQjTdICMKos"
      },
      "outputs": [],
      "source": [
        "from django.contrib import admin\n",
        "from .models import Book\n",
        "\n",
        "admin.site.register(Book)"
      ]
    },
    {
      "cell_type": "markdown",
      "source": [],
      "metadata": {
        "id": "aWHDAUphMcZ6"
      }
    }
  ],
  "metadata": {
    "kernelspec": {
      "display_name": "Python 3",
      "language": "python",
      "name": "python3"
    },
    "language_info": {
      "codemirror_mode": {
        "name": "ipython",
        "version": 3
      },
      "file_extension": ".py",
      "mimetype": "text/x-python",
      "name": "python",
      "nbconvert_exporter": "python",
      "pygments_lexer": "ipython3",
      "version": "3.8.10"
    },
    "colab": {
      "provenance": [],
      "include_colab_link": true
    }
  },
  "nbformat": 4,
  "nbformat_minor": 0
}